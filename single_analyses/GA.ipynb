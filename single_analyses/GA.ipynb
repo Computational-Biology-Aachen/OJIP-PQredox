{
 "cells": [
  {
   "cell_type": "code",
   "execution_count": null,
   "metadata": {},
   "outputs": [],
   "source": [
    "import pandas as pd\n",
    "import numpy as np\n",
    "from pathlib import Path\n",
    "import utils as utl\n",
    "import matplotlib.pyplot as plt\n",
    "\n",
    "from matplotlib import cm\n",
    "from matplotlib import colors\n",
    "import matplotlib.ticker as mticker\n",
    "from scipy.interpolate import UnivariateSpline, LSQUnivariateSpline\n",
    "from scipy.ndimage import gaussian_filter1d   \n",
    "from functools import partial\n",
    "\n",
    "import gc\n",
    "\n",
    "import warnings\n",
    "import re\n",
    "import importlib\n",
    "\n",
    "import data_processing as dp\n",
    "from data_processing import didx\n",
    "\n",
    "import common_plot_parameters as cpprm\n",
    "\n",
    "idx = pd.IndexSlice"
   ]
  },
  {
   "cell_type": "code",
   "execution_count": null,
   "metadata": {},
   "outputs": [],
   "source": [
    "# import raw data\n",
    "EXPERIMENT_PATH=\"data/20250301_OJIP_GA\"\n",
    "FILEPATHS = [x for x in Path(EXPERIMENT_PATH).glob(\"*\") if x.is_dir() and not x.name.startswith(\"_\")]\n",
    "\n",
    "ojip, levels = dp.load_data(FILEPATHS)\n",
    "\n",
    "# Load the plot parameters\n",
    "spec=importlib.util.spec_from_file_location(\"plot_parameters\",Path(EXPERIMENT_PATH)/\"plot_parameters.py\")\n",
    "pprm = importlib.util.module_from_spec(spec)\n",
    "spec.loader.exec_module(pprm)\n",
    "plot_parameters=pprm.plot_parameters"
   ]
  },
  {
   "cell_type": "markdown",
   "metadata": {},
   "source": [
    "## Get the main points of the OJIP curves"
   ]
  },
  {
   "cell_type": "code",
   "execution_count": null,
   "metadata": {},
   "outputs": [],
   "source": [
    "ojip_features, ojip_features_meansd = dp.get_ojip_features(ojip)"
   ]
  },
  {
   "cell_type": "markdown",
   "metadata": {},
   "source": [
    "## Double normalize the data"
   ]
  },
  {
   "cell_type": "code",
   "execution_count": null,
   "metadata": {},
   "outputs": [],
   "source": [
    "ojip_norm = dp.normalize_ojip(ojip, ojip_features=ojip_features)"
   ]
  },
  {
   "cell_type": "markdown",
   "metadata": {},
   "source": [
    "# Plot OJIP for each Density"
   ]
  },
  {
   "cell_type": "code",
   "execution_count": null,
   "metadata": {},
   "outputs": [],
   "source": [
    "# Get the ojip pints\n",
    "with warnings.catch_warnings(record=False) as caught_warnings:\n",
    "    warnings.simplefilter(\"ignore\") \n",
    "    ojip_points_res = utl.determine_OJIP_points(ojip_norm, **dp.feature_finding_options)\n",
    "\n",
    "ojip_points = ojip_points_res[\"points\"]"
   ]
  },
  {
   "cell_type": "code",
   "execution_count": null,
   "metadata": {},
   "outputs": [],
   "source": [
    "# Plot the raw ojip curves\n",
    "dp.plot_ojip(ojip=ojip, levels=levels, treatment_label=plot_parameters[\"treatment_label\"])"
   ]
  },
  {
   "cell_type": "code",
   "execution_count": null,
   "metadata": {},
   "outputs": [],
   "source": [
    "# Plot the normalized OJIP curves with the identified curves\n",
    "dp.plot_ojip(\n",
    "    ojip=ojip_norm,\n",
    "    levels=levels,\n",
    "    ojip_points=ojip_points,\n",
    "    treatment_label=plot_parameters[\"treatment_label\"],\n",
    "    point_finding_span=(dp.feature_finding_options[\"FJ_time_min\"], dp.feature_finding_options[\"FJ_time_max\"])\n",
    ")"
   ]
  },
  {
   "cell_type": "markdown",
   "metadata": {},
   "source": [
    "## Plot the identified VJ timing"
   ]
  },
  {
   "cell_type": "code",
   "execution_count": null,
   "metadata": {},
   "outputs": [],
   "source": [
    "# Get the identified VJ points\n",
    "VJ_identified = ojip_points.loc[:, (\"inflection\", \"FJ_value\")]\n",
    "\n",
    "# Plot\n",
    "dp.plot_VJ_per_replicate(VJ_identified, levels=levels, title=\"Identified VJs\", treatment_label=plot_parameters[\"treatment_label\"])"
   ]
  },
  {
   "cell_type": "markdown",
   "metadata": {},
   "source": [
    "## Plot the VJ value at a common time"
   ]
  },
  {
   "cell_type": "code",
   "execution_count": null,
   "metadata": {},
   "outputs": [],
   "source": [
    "# Get VJ at common times\n",
    "VJ_timing, VJ_timing_range, VJ_values = dp.get_common_time_VJ(\n",
    "    ojip_points=ojip_points,\n",
    "    ojip_norm=ojip_norm,\n",
    "    levels=levels\n",
    ")\n",
    "\n",
    "# Plot\n",
    "dp.plot_VJ_per_replicate(VJ_values, levels=levels, title=\"Common time VJs\", treatment_label=plot_parameters[\"treatment_label\"])"
   ]
  },
  {
   "cell_type": "markdown",
   "metadata": {},
   "source": [
    "## Paper figure"
   ]
  },
  {
   "cell_type": "code",
   "execution_count": null,
   "metadata": {},
   "outputs": [],
   "source": [
    "# Calculate the mean ojip curves\n",
    "ojip_norm_meansd = pd.concat({\n",
    "    \"mean\":ojip_norm.T.groupby(ojip_norm.columns.names[:-1]).mean(),\n",
    "    \"sd\":ojip_norm.T.groupby(ojip_norm.columns.names[:-1]).std()\n",
    "    }, names=[\"Measure\"]).T\n",
    "\n",
    "VJ_values_meansd = pd.concat({\n",
    "    \"mean\":VJ_values.T.groupby(VJ_values.index.names[:-1]).mean(),\n",
    "    \"sd\":VJ_values.T.groupby(VJ_values.index.names[:-1]).std()\n",
    "    }, names=[\"Measure\"]).T"
   ]
  },
  {
   "cell_type": "code",
   "execution_count": null,
   "metadata": {},
   "outputs": [],
   "source": [
    "LIGHTPHASES_PATH = Path(EXPERIMENT_PATH) / \"light_phases.csv\"\n",
    "if LIGHTPHASES_PATH.is_file():\n",
    "    light_phases = pd.read_csv(LIGHTPHASES_PATH)\n",
    "else:\n",
    "    light_phases = None\n",
    "\n",
    "# Get the base plot \"AL {treatment:d}s\"\n",
    "fig, axes = utl.get_base_plot(\n",
    "    ojip_norm,\n",
    "    ojip_norm_meansd,\n",
    "    ojip_points,\n",
    "    VJ_timing,\n",
    "    VJ_values,\n",
    "    VJ_values_meansd,\n",
    "    levels,\n",
    "    plot_replicates = False,\n",
    "    use_colorbar = False,\n",
    "    mark_sampled = True,\n",
    "    cmap = cm.coolwarm,\n",
    "    light_phases=light_phases,\n",
    "    **plot_parameters,\n",
    "    **cpprm.common_plot_parameters_main,\n",
    ")\n",
    "\n",
    "for ax in axes[:,-1]:\n",
    "    utl.add_application_arrow(ax, x=2, offset=0.02, arrow_frac_len=0.13)\n",
    "\n",
    "for ext in cpprm.plot_format:\n",
    "    fig.savefig(Path(\"figures\")/f\"{EXPERIMENT_PATH.split(\"/\")[1]}.{ext}\", bbox_inches=\"tight\")"
   ]
  },
  {
   "cell_type": "markdown",
   "metadata": {},
   "source": [
    "## SI: Raw OJIP and P-timing"
   ]
  },
  {
   "cell_type": "code",
   "execution_count": null,
   "metadata": {},
   "outputs": [],
   "source": [
    "# Make the FP-finding range slimmer for Syn\n",
    "# Remove FP timing from default options\n",
    "feature_finding_options = dp.feature_finding_options.copy()\n",
    "feature_finding_options.pop(\"FP_time_min\")\n",
    "\n",
    "ojip_points_raw_res={}\n",
    "\n",
    "# Identify the points for both strains and use a slimmer detection range for Syn\n",
    "for strain in levels[\"strains\"]:\n",
    "    # Get the ojip pints\n",
    "    with warnings.catch_warnings(record=False) as caught_warnings:\n",
    "        warnings.simplefilter(\"ignore\") \n",
    "        ojip_points_raw_res[strain] = utl.determine_OJIP_points(ojip.loc[:,didx(strain=strain)],\n",
    "                                        return_derivatives=True,\n",
    "                                        return_fits=True,\n",
    "                                        FP_time_min=40 if strain==\"Chlo\" else 100,\n",
    "                                        choose_method=\"closest\",\n",
    "                                        FJ_time_exp=2,\n",
    "                                        FI_time_exp=30,\n",
    "                                        FP_time_exp=100 if strain==\"Chlo\" else 200,\n",
    "                                        **feature_finding_options)\n",
    "\n",
    "ojip_points_raw = pd.concat([ojip_points_raw_res[strain][\"points\"] for strain in levels[\"strains\"]], axis=0)"
   ]
  },
  {
   "cell_type": "code",
   "execution_count": null,
   "metadata": {},
   "outputs": [],
   "source": [
    "ojip_meansd = pd.concat({\n",
    "    \"mean\":ojip.T.groupby(ojip.columns.names[:-1]).mean(),\n",
    "    \"sd\":ojip.T.groupby(ojip.columns.names[:-1]).std()\n",
    "    }, names=[\"Measure\"]).T\n",
    "\n",
    "FP_values = ojip_points_raw[(\"grad2-min\", \"FP_value\")]\n",
    "FP_values_meansd = pd.concat({\n",
    "    \"mean\":FP_values.T.groupby(FP_values.index.names[:-1]).mean(),\n",
    "    \"sd\":FP_values.T.groupby(FP_values.index.names[:-1]).std()\n",
    "    }, names=[\"Measure\"]).T\n",
    "\n",
    "FP_timing = ojip_points_raw[(\"grad2-min\", \"FP_time\")]\n",
    "FP_timing_meansd = pd.concat({\n",
    "    \"mean\":FP_timing.T.groupby(FP_timing.index.names[:-1]).mean(),\n",
    "    \"sd\":FP_timing.T.groupby(FP_timing.index.names[:-1]).std()\n",
    "    }, names=[\"Measure\"]).T"
   ]
  },
  {
   "cell_type": "code",
   "execution_count": null,
   "metadata": {},
   "outputs": [],
   "source": [
    "LIGHTPHASES_PATH = Path(EXPERIMENT_PATH) / \"light_phases.csv\"\n",
    "if LIGHTPHASES_PATH.is_file():\n",
    "    light_phases = pd.read_csv(LIGHTPHASES_PATH)\n",
    "else:\n",
    "    light_phases = None\n",
    "\n",
    "# Get the base plot \"AL {treatment:d}s\"\n",
    "fig, axes = utl.get_base_plot(\n",
    "    ojip,\n",
    "    ojip_meansd,\n",
    "    ojip_points_raw,\n",
    "    None,\n",
    "    FP_values,\n",
    "    FP_timing_meansd,\n",
    "    levels,\n",
    "    plot_replicates = False,\n",
    "    use_colorbar = False,\n",
    "    mark_sampled = True,\n",
    "    cmap = cm.coolwarm,\n",
    "    light_phases=light_phases,\n",
    "    variance_sleeve_alpha=0.3,\n",
    "    right_column_y_label=r\"F$_{\\mathrm{P}}$ timing (ms)\",\n",
    "    left_column_y_label = \"Fluorescence (V)\",\n",
    "    right_column_mark_zero=True,\n",
    "    point_x_selector=(\"grad2-min\", \"FP_time\"),\n",
    "    point_y_selector=(\"grad2-min\", \"FP_value\"),\n",
    "    point_label=\"Identified FP\",\n",
    "    **plot_parameters,\n",
    "    **cpprm.common_plot_parameters_SI,\n",
    ")\n",
    "\n",
    "for ax in axes[:,:-1].flatten():\n",
    "    ax.set_ylim(0)\n",
    "\n",
    "# for ax in axes[:,-1]:\n",
    "#     if ax.get_ylim()[1] > 500:\n",
    "#         ax.set_ylim(*ax.get_ylim())\n",
    "#         ax.axhspan(550, 700, color=\"k\", alpha=0.2)\n",
    "#         ax.text(0.55, 0.78, r\"F$_{\\mathrm{P}}$ likely not reached\", transform=ax.transAxes)\n",
    "\n",
    "for ext in cpprm.plot_format:\n",
    "    fig.savefig(Path(\"figures\")/f\"{EXPERIMENT_PATH.split(\"/\")[1]}_SI.{ext}\", bbox_inches=\"tight\")"
   ]
  },
  {
   "cell_type": "code",
   "execution_count": null,
   "metadata": {},
   "outputs": [],
   "source": [
    "plot_feature = \"derivative2\"\n",
    "\n",
    "fig, axes =dp.plot_ojip(\n",
    "    ojip=pd.concat([ojip_points_raw_res[strain][\"derivatives\"][\"FP\"][plot_feature] for strain in levels[\"strains\"]], axis=1),#ojip_points_raw_res[\"derivatives\"][\"FP\"][\"derivative2\"],\n",
    "    levels=levels,\n",
    "    # ojip_points=ojip_points,\n",
    "    treatment_label=plot_parameters[\"treatment_label\"],\n",
    "    point_finding_span=(dp.feature_finding_options[\"FP_time_min\"], dp.feature_finding_options[\"FP_time_max\"])\n",
    ")\n",
    "\n",
    "for ax in axes.flatten():\n",
    "    ax.axhline(0, c=\"k\", ls=\"--\")\n",
    "    ax.axvline(100, c=\"k\", ls=\"--\")\n",
    "\n",
    "fig.suptitle(f\"{EXPERIMENT_PATH.split(\"/\")[1]} - {plot_feature}\", y=1.02)"
   ]
  }
 ],
 "metadata": {
  "kernelspec": {
   "display_name": "ojipanl",
   "language": "python",
   "name": "python3"
  },
  "language_info": {
   "codemirror_mode": {
    "name": "ipython",
    "version": 3
   },
   "file_extension": ".py",
   "mimetype": "text/x-python",
   "name": "python",
   "nbconvert_exporter": "python",
   "pygments_lexer": "ipython3",
   "version": "3.13.2"
  }
 },
 "nbformat": 4,
 "nbformat_minor": 2
}
